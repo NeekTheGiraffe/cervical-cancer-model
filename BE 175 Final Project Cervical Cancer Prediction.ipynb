{
 "cells": [
  {
   "cell_type": "code",
   "execution_count": 1,
   "id": "d1190e87",
   "metadata": {},
   "outputs": [],
   "source": [
    "import scipy as sp\n",
    "import pandas as pd\n",
    "import matplotlib.pyplot as plt\n",
    "import numpy as np\n",
    "import seaborn as sns; sns.set()\n",
    "from sklearn.svm import SVC"
   ]
  },
  {
   "cell_type": "code",
   "execution_count": 16,
   "id": "46290dfe",
   "metadata": {},
   "outputs": [
    {
     "name": "stdout",
     "output_type": "stream",
     "text": [
      "36\n",
      "     Age  Number of sexual partners  First sexual intercourse  \\\n",
      "0     18                        4.0                      15.0   \n",
      "1     15                        1.0                      14.0   \n",
      "3     52                        5.0                      16.0   \n",
      "4     46                        3.0                      21.0   \n",
      "5     42                        3.0                      23.0   \n",
      "..   ...                        ...                       ...   \n",
      "853   34                        3.0                      18.0   \n",
      "854   32                        2.0                      19.0   \n",
      "855   25                        2.0                      17.0   \n",
      "856   33                        2.0                      24.0   \n",
      "857   29                        2.0                      20.0   \n",
      "\n",
      "     Num of pregnancies  Smokes  Smokes (years)  Smokes (packs/year)  \\\n",
      "0                   1.0     0.0             0.0                  0.0   \n",
      "1                   1.0     0.0             0.0                  0.0   \n",
      "3                   4.0     1.0            37.0                 37.0   \n",
      "4                   4.0     0.0             0.0                  0.0   \n",
      "5                   2.0     0.0             0.0                  0.0   \n",
      "..                  ...     ...             ...                  ...   \n",
      "853                 0.0     0.0             0.0                  0.0   \n",
      "854                 1.0     0.0             0.0                  0.0   \n",
      "855                 0.0     0.0             0.0                  0.0   \n",
      "856                 2.0     0.0             0.0                  0.0   \n",
      "857                 1.0     0.0             0.0                  0.0   \n",
      "\n",
      "     Hormonal Contraceptives  Hormonal Contraceptives (years)  IUD  ...  \\\n",
      "0                        0.0                             0.00  0.0  ...   \n",
      "1                        0.0                             0.00  0.0  ...   \n",
      "3                        1.0                             3.00  0.0  ...   \n",
      "4                        1.0                            15.00  0.0  ...   \n",
      "5                        0.0                             0.00  0.0  ...   \n",
      "..                       ...                              ...  ...  ...   \n",
      "853                      0.0                             0.00  0.0  ...   \n",
      "854                      1.0                             8.00  0.0  ...   \n",
      "855                      1.0                             0.08  0.0  ...   \n",
      "856                      1.0                             0.08  0.0  ...   \n",
      "857                      1.0                             0.50  0.0  ...   \n",
      "\n",
      "     STDs:HPV  STDs: Number of diagnosis  Dx:Cancer  Dx:CIN  Dx:HPV  Dx  \\\n",
      "0         0.0                          0          0       0       0   0   \n",
      "1         0.0                          0          0       0       0   0   \n",
      "3         0.0                          0          1       0       1   0   \n",
      "4         0.0                          0          0       0       0   0   \n",
      "5         0.0                          0          0       0       0   0   \n",
      "..        ...                        ...        ...     ...     ...  ..   \n",
      "853       0.0                          0          0       0       0   0   \n",
      "854       0.0                          0          0       0       0   0   \n",
      "855       0.0                          0          0       0       0   0   \n",
      "856       0.0                          0          0       0       0   0   \n",
      "857       0.0                          0          0       0       0   0   \n",
      "\n",
      "     Hinselmann  Schiller  Citology  Biopsy  \n",
      "0             0         0         0       0  \n",
      "1             0         0         0       0  \n",
      "3             0         0         0       0  \n",
      "4             0         0         0       0  \n",
      "5             0         0         0       0  \n",
      "..          ...       ...       ...     ...  \n",
      "853           0         0         0       0  \n",
      "854           0         0         0       0  \n",
      "855           0         0         1       0  \n",
      "856           0         0         0       0  \n",
      "857           0         0         0       0  \n",
      "\n",
      "[668 rows x 34 columns]\n"
     ]
    }
   ],
   "source": [
    "# Pre-processing: rid of all columns that are mostly unfilled and patients who declined to answer a question\n",
    "cerv_data = pd.read_csv('risk_factors_cervical_cancer.csv', na_values=[\"?\"])\n",
    "print(len(cerv_data.columns))\n",
    "cerv_data = cerv_data.drop(columns =['STDs: Time since last diagnosis','STDs: Time since first diagnosis'])\n",
    "cerv_data = cerv_data.dropna()\n",
    "print(cerv_data)"
   ]
  },
  {
   "cell_type": "code",
   "execution_count": null,
   "id": "fa6808bb",
   "metadata": {},
   "outputs": [],
   "source": []
  }
 ],
 "metadata": {
  "kernelspec": {
   "display_name": "Python 3 (ipykernel)",
   "language": "python",
   "name": "python3"
  },
  "language_info": {
   "codemirror_mode": {
    "name": "ipython",
    "version": 3
   },
   "file_extension": ".py",
   "mimetype": "text/x-python",
   "name": "python",
   "nbconvert_exporter": "python",
   "pygments_lexer": "ipython3",
   "version": "3.9.7"
  }
 },
 "nbformat": 4,
 "nbformat_minor": 5
}
