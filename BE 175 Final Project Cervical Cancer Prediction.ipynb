{
 "cells": [
  {
   "cell_type": "code",
   "execution_count": 1,
   "id": "d1190e87",
   "metadata": {},
   "outputs": [],
   "source": [
    "import scipy as sp\n",
    "import pandas as pd\n",
    "import matplotlib.pyplot as plt\n",
    "import numpy as np\n",
    "import seaborn as sns; sns.set()\n",
    "from sklearn.svm import SVC"
   ]
  },
  {
   "cell_type": "code",
   "execution_count": 2,
   "id": "46290dfe",
   "metadata": {},
   "outputs": [
    {
     "name": "stdout",
     "output_type": "stream",
     "text": [
      "36\n"
     ]
    }
   ],
   "source": [
    "# Pre-processing: rid of all columns that are mostly unfilled and patients who declined to answer a question\n",
    "cerv_data = pd.read_csv('risk_factors_cervical_cancer.csv', na_values=[\"?\"])\n",
    "print(len(cerv_data.columns))\n",
    "cerv_data = cerv_data.drop(columns =['STDs: Time since last diagnosis','STDs: Time since first diagnosis'])\n",
    "cerv_data = cerv_data.dropna()\n",
    "#print(cerv_data)\n",
    "x, y = cerv_data.iloc[:,:-4], cerv_data.iloc[:,-4:]\n",
    "# print(x)\n",
    "# print(y)"
   ]
  },
  {
   "cell_type": "code",
   "execution_count": 3,
   "id": "407c462b",
   "metadata": {},
   "outputs": [],
   "source": [
    "# Confusion matrix utilities\n",
    "def print_confusion(cm):\n",
    "    column_names = pd.DataFrame([['Predicted', '-'],\n",
    "                                 ['Predicted', '+']],\n",
    "                                 columns=['', ''])\n",
    "    row_names = pd.DataFrame([['Observed', '-'],\n",
    "                              ['Observed', '+']],\n",
    "                              columns=['', ''])\n",
    "    columns = pd.MultiIndex.from_frame(column_names)\n",
    "    index = pd.MultiIndex.from_frame(row_names)\n",
    "    display(pd.DataFrame(cm, index=index, columns=columns))\n",
    "\n",
    "def get_score(cm):\n",
    "    return (cm[0,0]+cm[1,1])/np.sum(cm)\n",
    "\n",
    "def get_fp_rate(cm):\n",
    "    return cm[0,1]/(cm[0,0]+cm[0,1])\n",
    "\n",
    "def get_fn_rate(cm):\n",
    "    return cm[1,0]/(cm[1,1]+cm[1,0])"
   ]
  },
  {
   "cell_type": "code",
   "execution_count": 4,
   "id": "fa6808bb",
   "metadata": {},
   "outputs": [
    {
     "name": "stdout",
     "output_type": "stream",
     "text": [
      "The prediction score for Hinselmann upon fitting is 0.719\n",
      "The false positive rate is 28.37%\n",
      "The false negative rate is 23.33%\n"
     ]
    },
    {
     "data": {
      "text/html": [
       "<div>\n",
       "<style scoped>\n",
       "    .dataframe tbody tr th:only-of-type {\n",
       "        vertical-align: middle;\n",
       "    }\n",
       "\n",
       "    .dataframe tbody tr th {\n",
       "        vertical-align: top;\n",
       "    }\n",
       "\n",
       "    .dataframe thead tr th {\n",
       "        text-align: left;\n",
       "    }\n",
       "\n",
       "    .dataframe thead tr:last-of-type th {\n",
       "        text-align: right;\n",
       "    }\n",
       "</style>\n",
       "<table border=\"1\" class=\"dataframe\">\n",
       "  <thead>\n",
       "    <tr>\n",
       "      <th></th>\n",
       "      <th></th>\n",
       "      <th colspan=\"2\" halign=\"left\">Predicted</th>\n",
       "    </tr>\n",
       "    <tr>\n",
       "      <th></th>\n",
       "      <th></th>\n",
       "      <th>-</th>\n",
       "      <th>+</th>\n",
       "    </tr>\n",
       "    <tr>\n",
       "      <th></th>\n",
       "      <th></th>\n",
       "      <th></th>\n",
       "      <th></th>\n",
       "    </tr>\n",
       "  </thead>\n",
       "  <tbody>\n",
       "    <tr>\n",
       "      <th rowspan=\"2\" valign=\"top\">Observed</th>\n",
       "      <th>-</th>\n",
       "      <td>457</td>\n",
       "      <td>181</td>\n",
       "    </tr>\n",
       "    <tr>\n",
       "      <th>+</th>\n",
       "      <td>7</td>\n",
       "      <td>23</td>\n",
       "    </tr>\n",
       "  </tbody>\n",
       "</table>\n",
       "</div>"
      ],
      "text/plain": [
       "           Predicted     \n",
       "                   -    +\n",
       "                         \n",
       "Observed -       457  181\n",
       "         +         7   23"
      ]
     },
     "metadata": {},
     "output_type": "display_data"
    },
    {
     "name": "stdout",
     "output_type": "stream",
     "text": [
      "The prediction score for Hinselmann upon cross-validation is 0.692\n",
      "The false positive rate is 29.62%\n",
      "The false negative rate is 56.67%\n"
     ]
    },
    {
     "data": {
      "text/html": [
       "<div>\n",
       "<style scoped>\n",
       "    .dataframe tbody tr th:only-of-type {\n",
       "        vertical-align: middle;\n",
       "    }\n",
       "\n",
       "    .dataframe tbody tr th {\n",
       "        vertical-align: top;\n",
       "    }\n",
       "\n",
       "    .dataframe thead tr th {\n",
       "        text-align: left;\n",
       "    }\n",
       "\n",
       "    .dataframe thead tr:last-of-type th {\n",
       "        text-align: right;\n",
       "    }\n",
       "</style>\n",
       "<table border=\"1\" class=\"dataframe\">\n",
       "  <thead>\n",
       "    <tr>\n",
       "      <th></th>\n",
       "      <th></th>\n",
       "      <th colspan=\"2\" halign=\"left\">Predicted</th>\n",
       "    </tr>\n",
       "    <tr>\n",
       "      <th></th>\n",
       "      <th></th>\n",
       "      <th>-</th>\n",
       "      <th>+</th>\n",
       "    </tr>\n",
       "    <tr>\n",
       "      <th></th>\n",
       "      <th></th>\n",
       "      <th></th>\n",
       "      <th></th>\n",
       "    </tr>\n",
       "  </thead>\n",
       "  <tbody>\n",
       "    <tr>\n",
       "      <th rowspan=\"2\" valign=\"top\">Observed</th>\n",
       "      <th>-</th>\n",
       "      <td>449</td>\n",
       "      <td>189</td>\n",
       "    </tr>\n",
       "    <tr>\n",
       "      <th>+</th>\n",
       "      <td>17</td>\n",
       "      <td>13</td>\n",
       "    </tr>\n",
       "  </tbody>\n",
       "</table>\n",
       "</div>"
      ],
      "text/plain": [
       "           Predicted     \n",
       "                   -    +\n",
       "                         \n",
       "Observed -       449  189\n",
       "         +        17   13"
      ]
     },
     "metadata": {},
     "output_type": "display_data"
    }
   ],
   "source": [
    "###### Logistic regression ######\n",
    "from sklearn.preprocessing import StandardScaler\n",
    "from sklearn.linear_model import LogisticRegression\n",
    "from sklearn.pipeline import Pipeline\n",
    "from sklearn.model_selection import KFold\n",
    "from sklearn.utils import compute_sample_weight\n",
    "from sklearn.metrics import confusion_matrix\n",
    "\n",
    "hinselmann = y.iloc[:, 0]\n",
    "\n",
    "# Direct fitting\n",
    "lr_pipe = Pipeline([('scale', StandardScaler()), ('logreg', LogisticRegression())])\n",
    "lr_pipe.fit(x, hinselmann, **{'logreg__sample_weight': compute_sample_weight('balanced', hinselmann)})\n",
    "lr_direct_score = lr_pipe.score(x, hinselmann)\n",
    "lr_cm_hinselmann_direct = confusion_matrix(hinselmann, lr_pipe.predict(x))\n",
    "\n",
    "# Cross-validation\n",
    "cv = KFold(shuffle=True)\n",
    "lr_ypred_hinselmann = np.empty(x.shape[0])\n",
    "for train_i, test_i in cv.split(x):\n",
    "    lr_pipe.fit(x.iloc[train_i], hinselmann.iloc[train_i], **{'logreg__sample_weight': compute_sample_weight('balanced', hinselmann.iloc[train_i])})\n",
    "    lr_ypred_hinselmann[test_i] = lr_pipe.predict(x.iloc[test_i])\n",
    "\n",
    "lr_cm_hinselmann_cv = confusion_matrix(hinselmann, lr_ypred_hinselmann)\n",
    "\n",
    "print('The prediction score for Hinselmann upon fitting is {:.3}'.format(lr_direct_score))\n",
    "print('The false positive rate is {0:.2%}'.format(get_fp_rate(lr_cm_hinselmann_direct)))\n",
    "print('The false negative rate is {0:.2%}'.format(get_fn_rate(lr_cm_hinselmann_direct)))\n",
    "print_confusion(lr_cm_hinselmann_direct)\n",
    "\n",
    "print('The prediction score for Hinselmann upon cross-validation is {:.3}'.format(get_score(lr_cm_hinselmann_cv)))\n",
    "print('The false positive rate is {0:.2%}'.format(get_fp_rate(lr_cm_hinselmann_cv)))\n",
    "print('The false negative rate is {0:.2%}'.format(get_fn_rate(lr_cm_hinselmann_cv)))\n",
    "print_confusion(lr_cm_hinselmann_cv)"
   ]
  }
 ],
 "metadata": {
  "kernelspec": {
   "display_name": "Python 3 (ipykernel)",
   "language": "python",
   "name": "python3"
  },
  "language_info": {
   "codemirror_mode": {
    "name": "ipython",
    "version": 3
   },
   "file_extension": ".py",
   "mimetype": "text/x-python",
   "name": "python",
   "nbconvert_exporter": "python",
   "pygments_lexer": "ipython3",
   "version": "3.11.0"
  }
 },
 "nbformat": 4,
 "nbformat_minor": 5
}
